{
 "cells": [
  {
   "cell_type": "markdown",
   "metadata": {},
   "source": [
    "# Automatic differentiation\n",
    "\n",
    "Basic automatic differentiation implementation in Python with `numpy`.\n",
    "\n",
    "Inspired by [Understanding autodiff in 30 lines of Python](https://vmartin.fr/understanding-automatic-differentiation-in-30-lines-of-python.html#disqus_thread)."
   ]
  },
  {
   "cell_type": "code",
   "execution_count": 1,
   "metadata": {},
   "outputs": [],
   "source": [
    "import numpy as np\n",
    "from typing import TypeVar\n",
    "\n",
    "T = TypeVar(\"T\")"
   ]
  },
  {
   "cell_type": "markdown",
   "metadata": {},
   "source": [
    "For starters, let's implement a simple Tensor class with basic arithmetic operations defined."
   ]
  },
  {
   "cell_type": "code",
   "execution_count": 2,
   "metadata": {},
   "outputs": [],
   "source": [
    "class BasicTensor:\n",
    "    __slots__ = (\"value\",)\n",
    "\n",
    "    def __init__(self, value: T = None) -> None:\n",
    "        self.value = value\n",
    "\n",
    "    def __repr__(self) -> str:\n",
    "        return f\"Tensor(value={self.value})\"\n",
    "\n",
    "    def __add__(self, other: \"BasicTensor\") -> \"BasicTensor\":\n",
    "        return BasicTensor(self.value + other.value)\n",
    "\n",
    "    def __sub__(self, other: \"BasicTensor\") -> \"BasicTensor\":\n",
    "        return BasicTensor(self.value - other.value)\n",
    "\n",
    "    def __mul__(self, other: \"BasicTensor\") -> \"BasicTensor\":\n",
    "        return BasicTensor(self.value * other.value)\n",
    "\n",
    "    def __truediv__(self, other: \"BasicTensor\") -> \"BasicTensor\":\n",
    "        return BasicTensor(self.value / other.value)"
   ]
  },
  {
   "cell_type": "markdown",
   "metadata": {},
   "source": [
    "Now we can use all the operations and the result will be correct, but we still have a lot to do in terms of differentiation."
   ]
  },
  {
   "cell_type": "code",
   "execution_count": 3,
   "metadata": {},
   "outputs": [
    {
     "data": {
      "text/plain": [
       "Tensor(value=0.5)"
      ]
     },
     "execution_count": 3,
     "metadata": {},
     "output_type": "execute_result"
    }
   ],
   "source": [
    "x = BasicTensor(1)\n",
    "y = BasicTensor(2)\n",
    "z = BasicTensor(3)\n",
    "\n",
    "z / (x + y + z)"
   ]
  },
  {
   "cell_type": "code",
   "execution_count": 4,
   "metadata": {},
   "outputs": [],
   "source": [
    "import json\n",
    "from typing import Callable, Optional"
   ]
  },
  {
   "cell_type": "markdown",
   "metadata": {},
   "source": [
    "## Operations tree\n",
    "\n",
    "But to reach our goal, we have to keep the structure of the operations, hence the `Operation`\n",
    "class. It represents both unary and binary operations, so `left` is required and `right` can\n",
    "be omitted, but the `func` has to be compatible with the amount of inputs and their types."
   ]
  },
  {
   "cell_type": "code",
   "execution_count": 5,
   "metadata": {},
   "outputs": [],
   "source": [
    "class Operation:\n",
    "    __slots__ = (\"left\", \"right\", \"func\")\n",
    "\n",
    "    def __init__(\n",
    "        self,\n",
    "        func: Callable[[T], T],\n",
    "        left: \"Tensor[T]\",\n",
    "        right: Optional[\"Tensor[T]\"] = None,\n",
    "    ) -> None:\n",
    "        self.func = func\n",
    "        self.left = left\n",
    "        self.right = right\n",
    "\n",
    "    def to_dict(self) -> dict:\n",
    "        if self.right is None:\n",
    "            return {\n",
    "                \"operation\": str(self.func),\n",
    "                \"left\": self.left.to_dict(),\n",
    "            }\n",
    "\n",
    "        return {\n",
    "            \"operation\": str(self.func),\n",
    "            \"left\": self.left.to_dict(),\n",
    "            \"right\": self.right.to_dict(),\n",
    "        }\n",
    "\n",
    "    def forward(self) -> T:\n",
    "        left = self.left.forward()\n",
    "\n",
    "        if self.right is None:\n",
    "            return self.func(left.value)\n",
    "\n",
    "        right = self.right.forward()\n",
    "        return self.func(left.value, right.value)"
   ]
  },
  {
   "cell_type": "markdown",
   "metadata": {},
   "source": [
    "Let's make `Tensor` a little more complex, adding the `forward` method that calculates its\n",
    "value using the `operation` attribute."
   ]
  },
  {
   "cell_type": "code",
   "execution_count": 6,
   "metadata": {},
   "outputs": [],
   "source": [
    "class Tensor:\n",
    "    __slots__ = (\"value\", \"operation\")\n",
    "\n",
    "    def __init__(\n",
    "        self, value: T = None, operation: Optional[\"Operation\"] = None\n",
    "    ) -> None:\n",
    "        self.value = value\n",
    "        self.operation = operation\n",
    "\n",
    "    def to_dict(self) -> dict:\n",
    "        if self.operation is None:\n",
    "            return {\n",
    "                \"value\": float(self.value),\n",
    "            }\n",
    "\n",
    "        return {\n",
    "            \"value\": float(self.value),\n",
    "            \"operation\": self.operation.to_dict(),\n",
    "        }\n",
    "\n",
    "    def __repr__(self) -> str:\n",
    "        return json.dumps(self.to_dict(), indent=2)\n",
    "\n",
    "    def __add__(self, other: \"Tensor\") -> \"Tensor\":\n",
    "        operation = Operation(np.add, self, other)\n",
    "        return Tensor(operation=operation).forward()\n",
    "\n",
    "    def __sub__(self, other: \"Tensor\") -> \"Tensor\":\n",
    "        operation = Operation(np.subtract, self, other)\n",
    "        return Tensor(operation=operation).forward()\n",
    "\n",
    "    def __mul__(self, other: \"Tensor\") -> \"Tensor\":\n",
    "        operation = Operation(np.multiply, self, other)\n",
    "        return Tensor(operation=operation).forward()\n",
    "\n",
    "    def __truediv__(self, other: \"Tensor\") -> \"Tensor\":\n",
    "        operation = Operation(np.true_divide, self, other)\n",
    "        return Tensor(operation=operation).forward()\n",
    "\n",
    "    def __neg__(self) -> \"Tensor\":\n",
    "        operation = Operation(np.negative, self)\n",
    "        return Tensor(operation=operation).forward()\n",
    "\n",
    "    def __pow__(self, other: \"Tensor\") -> \"Tensor\":\n",
    "        operation = Operation(np.power, self, other)\n",
    "        return Tensor(operation=operation).forward()\n",
    "\n",
    "    def forward(self) -> \"Tensor\":\n",
    "        if self.operation is None:\n",
    "            return self\n",
    "\n",
    "        self.value = self.operation.forward()\n",
    "        return self"
   ]
  },
  {
   "cell_type": "markdown",
   "metadata": {},
   "source": [
    "Now we can see structure of the operations in the form of a binary tree. \n",
    "Let's try building this expression:\n",
    "\n",
    "$$\n",
    "\\frac {(x \\cdot y)^z} {x^z \\cdot y}\n",
    "$$"
   ]
  },
  {
   "cell_type": "code",
   "execution_count": 7,
   "metadata": {},
   "outputs": [
    {
     "data": {
      "text/plain": [
       "{\n",
       "  \"value\": 39304.0,\n",
       "  \"operation\": {\n",
       "    \"operation\": \"<ufunc 'divide'>\",\n",
       "    \"left\": {\n",
       "      \"value\": 13363360000.0,\n",
       "      \"operation\": {\n",
       "        \"operation\": \"<ufunc 'power'>\",\n",
       "        \"left\": {\n",
       "          \"value\": 340.0,\n",
       "          \"operation\": {\n",
       "            \"operation\": \"<ufunc 'multiply'>\",\n",
       "            \"left\": {\n",
       "              \"value\": 10.0\n",
       "            },\n",
       "            \"right\": {\n",
       "              \"value\": 34.0\n",
       "            }\n",
       "          }\n",
       "        },\n",
       "        \"right\": {\n",
       "          \"value\": 4.0\n",
       "        }\n",
       "      }\n",
       "    },\n",
       "    \"right\": {\n",
       "      \"value\": 340000.0,\n",
       "      \"operation\": {\n",
       "        \"operation\": \"<ufunc 'multiply'>\",\n",
       "        \"left\": {\n",
       "          \"value\": 10000.0,\n",
       "          \"operation\": {\n",
       "            \"operation\": \"<ufunc 'power'>\",\n",
       "            \"left\": {\n",
       "              \"value\": 10.0\n",
       "            },\n",
       "            \"right\": {\n",
       "              \"value\": 4.0\n",
       "            }\n",
       "          }\n",
       "        },\n",
       "        \"right\": {\n",
       "          \"value\": 34.0\n",
       "        }\n",
       "      }\n",
       "    }\n",
       "  }\n",
       "}"
      ]
     },
     "execution_count": 7,
     "metadata": {},
     "output_type": "execute_result"
    }
   ],
   "source": [
    "x = Tensor(10)\n",
    "y = Tensor(34)\n",
    "z = Tensor(4)\n",
    "\n",
    "((x * y) ** z) / (x**z * y)"
   ]
  },
  {
   "cell_type": "markdown",
   "metadata": {},
   "source": [
    "Storing the operation structure makes it quite easy to differentiate any\n",
    "expression we have. We just need to add a `.differentiate` method that, well,\n",
    "*differentiates* with respect to the `target` tensor.\n",
    "\n",
    "In the multiplication and division methods you could notice a shortcut that\n",
    "let's us skip a branch of calculations when we know it evaluates to $0$. There\n",
    "is also a similar shortcut in the power rule. Another shortcut I added is\n",
    "removing a branch if it does not depend on the target tensor. This is done\n",
    "using the `.depends_on` method that recursively checks each branch before\n",
    "calculating its derivative."
   ]
  },
  {
   "cell_type": "code",
   "execution_count": 8,
   "metadata": {},
   "outputs": [],
   "source": [
    "class Tensor(Tensor):\n",
    "    def differentiate(self, target: \"Tensor[T]\") -> \"Tensor\":\n",
    "        if target is self:\n",
    "            return Tensor(1)\n",
    "\n",
    "        if self.operation is None:\n",
    "            return Tensor(0)\n",
    "\n",
    "        if self.depends_on(target) is False:\n",
    "            return Tensor(0)\n",
    "\n",
    "        left = self.operation.left\n",
    "        right = self.operation.right\n",
    "        func = self.operation.func\n",
    "\n",
    "        match func:\n",
    "            # sum rule\n",
    "            case np.add:\n",
    "                return left.differentiate(target) + right.differentiate(target)\n",
    "\n",
    "            case np.subtract:\n",
    "                return left.differentiate(target) - right.differentiate(target)\n",
    "\n",
    "            # product rule\n",
    "            case np.multiply:\n",
    "                if left.value == 0 or right.value == 0:\n",
    "                    return Tensor(0)\n",
    "\n",
    "                return left.differentiate(target) * right + left * right.differentiate(\n",
    "                    target\n",
    "                )\n",
    "\n",
    "            # quotient rule\n",
    "            case np.true_divide:\n",
    "                if left.value == 0:\n",
    "                    return Tensor(0)\n",
    "\n",
    "                return (\n",
    "                    left.differentiate(target) * right\n",
    "                    - left * right.differentiate(target)\n",
    "                ) / (right ** Tensor(2))\n",
    "\n",
    "            # power rule\n",
    "            case np.power:\n",
    "                p = right - Tensor(1)\n",
    "\n",
    "                if p.value == 0:\n",
    "                    return right\n",
    "\n",
    "                return right * left**p\n",
    "\n",
    "    def depends_on(self, target) -> bool:\n",
    "        if target is self:\n",
    "            return True\n",
    "\n",
    "        if self.operation is None:\n",
    "            return False\n",
    "\n",
    "        left = self.operation.left\n",
    "        right = self.operation.right\n",
    "\n",
    "        if right is None:\n",
    "            return left.depends_on(target)\n",
    "\n",
    "        return left.depends_on(target) or right.depends_on(target)"
   ]
  },
  {
   "cell_type": "markdown",
   "metadata": {},
   "source": [
    "Let's build an expression, find its derivative and compare:\n",
    "\n",
    "$$\n",
    "\\begin{aligned}\n",
    "f(x, y, z) &= y^z + xy + x^zz \\\\\n",
    "\\frac {\\partial f} {\\partial y} &= z y^{(z - 1)} + x\n",
    "\\end{aligned}\n",
    "$$"
   ]
  },
  {
   "cell_type": "code",
   "execution_count": 9,
   "metadata": {},
   "outputs": [
    {
     "data": {
      "text/plain": [
       "{\n",
       "  \"value\": 78.0,\n",
       "  \"operation\": {\n",
       "    \"operation\": \"<ufunc 'add'>\",\n",
       "    \"left\": {\n",
       "      \"value\": 78.0,\n",
       "      \"operation\": {\n",
       "        \"operation\": \"<ufunc 'add'>\",\n",
       "        \"left\": {\n",
       "          \"value\": 68.0,\n",
       "          \"operation\": {\n",
       "            \"operation\": \"<ufunc 'multiply'>\",\n",
       "            \"left\": {\n",
       "              \"value\": 2.0\n",
       "            },\n",
       "            \"right\": {\n",
       "              \"value\": 34.0,\n",
       "              \"operation\": {\n",
       "                \"operation\": \"<ufunc 'power'>\",\n",
       "                \"left\": {\n",
       "                  \"value\": 34.0\n",
       "                },\n",
       "                \"right\": {\n",
       "                  \"value\": 1.0,\n",
       "                  \"operation\": {\n",
       "                    \"operation\": \"<ufunc 'subtract'>\",\n",
       "                    \"left\": {\n",
       "                      \"value\": 2.0\n",
       "                    },\n",
       "                    \"right\": {\n",
       "                      \"value\": 1.0\n",
       "                    }\n",
       "                  }\n",
       "                }\n",
       "              }\n",
       "            }\n",
       "          }\n",
       "        },\n",
       "        \"right\": {\n",
       "          \"value\": 10.0,\n",
       "          \"operation\": {\n",
       "            \"operation\": \"<ufunc 'add'>\",\n",
       "            \"left\": {\n",
       "              \"value\": 0.0,\n",
       "              \"operation\": {\n",
       "                \"operation\": \"<ufunc 'multiply'>\",\n",
       "                \"left\": {\n",
       "                  \"value\": 0.0\n",
       "                },\n",
       "                \"right\": {\n",
       "                  \"value\": 34.0\n",
       "                }\n",
       "              }\n",
       "            },\n",
       "            \"right\": {\n",
       "              \"value\": 10.0,\n",
       "              \"operation\": {\n",
       "                \"operation\": \"<ufunc 'multiply'>\",\n",
       "                \"left\": {\n",
       "                  \"value\": 10.0\n",
       "                },\n",
       "                \"right\": {\n",
       "                  \"value\": 1.0\n",
       "                }\n",
       "              }\n",
       "            }\n",
       "          }\n",
       "        }\n",
       "      }\n",
       "    },\n",
       "    \"right\": {\n",
       "      \"value\": 0.0\n",
       "    }\n",
       "  }\n",
       "}"
      ]
     },
     "execution_count": 9,
     "metadata": {},
     "output_type": "execute_result"
    }
   ],
   "source": [
    "x = Tensor(10)\n",
    "y = Tensor(34)\n",
    "z = Tensor(2)\n",
    "\n",
    "r = y**z + x * y + x**z * z\n",
    "r.differentiate(y)"
   ]
  },
  {
   "cell_type": "markdown",
   "metadata": {},
   "source": [
    "The results matched perfectly, and you can see that the last term $x^zz$ evaluated\n",
    "to $0$ immediately, as it doesn't contain the $y$ variable. Let's try something else:\n",
    "we can change value of $y$, and sure enough, the derivative at that point is $0$."
   ]
  },
  {
   "cell_type": "code",
   "execution_count": 10,
   "metadata": {},
   "outputs": [
    {
     "data": {
      "text/plain": [
       "{\n",
       "  \"value\": 0.0,\n",
       "  \"operation\": {\n",
       "    \"operation\": \"<ufunc 'add'>\",\n",
       "    \"left\": {\n",
       "      \"value\": 0.0,\n",
       "      \"operation\": {\n",
       "        \"operation\": \"<ufunc 'add'>\",\n",
       "        \"left\": {\n",
       "          \"value\": 0.0,\n",
       "          \"operation\": {\n",
       "            \"operation\": \"<ufunc 'multiply'>\",\n",
       "            \"left\": {\n",
       "              \"value\": 2.0\n",
       "            },\n",
       "            \"right\": {\n",
       "              \"value\": 0.0,\n",
       "              \"operation\": {\n",
       "                \"operation\": \"<ufunc 'power'>\",\n",
       "                \"left\": {\n",
       "                  \"value\": 0.0\n",
       "                },\n",
       "                \"right\": {\n",
       "                  \"value\": 1.0,\n",
       "                  \"operation\": {\n",
       "                    \"operation\": \"<ufunc 'subtract'>\",\n",
       "                    \"left\": {\n",
       "                      \"value\": 2.0\n",
       "                    },\n",
       "                    \"right\": {\n",
       "                      \"value\": 1.0\n",
       "                    }\n",
       "                  }\n",
       "                }\n",
       "              }\n",
       "            }\n",
       "          }\n",
       "        },\n",
       "        \"right\": {\n",
       "          \"value\": 0.0\n",
       "        }\n",
       "      }\n",
       "    },\n",
       "    \"right\": {\n",
       "      \"value\": 0.0\n",
       "    }\n",
       "  }\n",
       "}"
      ]
     },
     "execution_count": 10,
     "metadata": {},
     "output_type": "execute_result"
    }
   ],
   "source": [
    "y.value = 0\n",
    "r.differentiate(y)"
   ]
  }
 ],
 "metadata": {
  "kernelspec": {
   "display_name": "ml-from-scratch-pm_LXCbW-py3.11",
   "language": "python",
   "name": "python3"
  },
  "language_info": {
   "codemirror_mode": {
    "name": "ipython",
    "version": 3
   },
   "file_extension": ".py",
   "mimetype": "text/x-python",
   "name": "python",
   "nbconvert_exporter": "python",
   "pygments_lexer": "ipython3",
   "version": "3.10.12"
  },
  "orig_nbformat": 4
 },
 "nbformat": 4,
 "nbformat_minor": 2
}

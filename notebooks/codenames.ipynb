{
 "cells": [
  {
   "cell_type": "code",
   "execution_count": 11,
   "metadata": {},
   "outputs": [],
   "source": [
    "from sentence_transformers import SentenceTransformer\n",
    "import numpy as np"
   ]
  },
  {
   "cell_type": "code",
   "execution_count": 12,
   "metadata": {},
   "outputs": [],
   "source": [
    "cache_folder = \"/home/andrew/.config\"\n",
    "model_name = \"intfloat/multilingual-e5-large\"\n",
    "words = [\n",
    "    \"гриф\",\n",
    "    \"нота\",\n",
    "    \"кінь\",\n",
    "    \"вухо\",\n",
    "    \"вчитель\",\n",
    "    \"нянька\",\n",
    "    \"хмарочос\",\n",
    "    \"велетень\",\n",
    "    \"атлантида\",\n",
    "    \"байка\",\n",
    "    \"олімп\",\n",
    "    \"хортиця\",\n",
    "    \"проспект\",\n",
    "    \"троянда\",\n",
    "    \"корабель\",\n",
    "    \"кит\",\n",
    "    \"трава\",\n",
    "    \"рулетка\",\n",
    "    \"ручка\",\n",
    "    \"застава\",\n",
    "    \"ніч\",\n",
    "    \"гарбуз\",\n",
    "    \"центр\",\n",
    "    \"шапка\",\n",
    "    \"термін\",\n",
    "]"
   ]
  },
  {
   "cell_type": "code",
   "execution_count": 13,
   "metadata": {},
   "outputs": [],
   "source": [
    "model = SentenceTransformer(model_name, cache_folder=cache_folder)\n",
    "embeddings = model.encode(\n",
    "    [f\"query: {word}\".lower() for word in words], normalize_embeddings=True\n",
    ")"
   ]
  },
  {
   "cell_type": "code",
   "execution_count": 14,
   "metadata": {},
   "outputs": [],
   "source": [
    "clue = \"бандера\"\n",
    "\n",
    "query = model.encode([f\"query: {clue}\"], normalize_embeddings=True)[0]\n",
    "distances = [np.linalg.norm(query - embedding) for embedding in embeddings]"
   ]
  },
  {
   "cell_type": "code",
   "execution_count": 16,
   "metadata": {},
   "outputs": [
    {
     "name": "stdout",
     "output_type": "stream",
     "text": [
      "атлантида = 0.6432029008865356\n",
      "байка = 0.6387204527854919\n",
      "хортиця = 0.6348942518234253\n",
      "гриф = 0.630932092666626\n",
      "шапка = 0.629564642906189\n",
      "троянда = 0.6252006888389587\n",
      "гарбуз = 0.6208930611610413\n",
      "нота = 0.620780885219574\n",
      "застава = 0.6197606921195984\n",
      "хмарочос = 0.6193114519119263\n",
      "кит = 0.6131353974342346\n",
      "вухо = 0.6088287234306335\n",
      "велетень = 0.607914388179779\n",
      "рулетка = 0.606356680393219\n",
      "ручка = 0.6011629104614258\n",
      "олімп = 0.5943872332572937\n",
      "нянька = 0.5916678309440613\n",
      "проспект = 0.5835904479026794\n",
      "вчитель = 0.5793546438217163\n",
      "трава = 0.5731666684150696\n",
      "центр = 0.5673324465751648\n",
      "корабель = 0.5665168762207031\n",
      "термін = 0.5403103828430176\n",
      "ніч = 0.5277882814407349\n",
      "кінь = 0.5212740898132324\n"
     ]
    }
   ],
   "source": [
    "for i in np.argsort(distances)[::-1]:\n",
    "    print(f\"{words[i]} = {distances[i]}\")"
   ]
  }
 ],
 "metadata": {
  "kernelspec": {
   "display_name": "ml-from-scratch-pm_LXCbW-py3.11",
   "language": "python",
   "name": "python3"
  },
  "language_info": {
   "codemirror_mode": {
    "name": "ipython",
    "version": 3
   },
   "file_extension": ".py",
   "mimetype": "text/x-python",
   "name": "python",
   "nbconvert_exporter": "python",
   "pygments_lexer": "ipython3",
   "version": "3.10.12"
  },
  "orig_nbformat": 4
 },
 "nbformat": 4,
 "nbformat_minor": 2
}
